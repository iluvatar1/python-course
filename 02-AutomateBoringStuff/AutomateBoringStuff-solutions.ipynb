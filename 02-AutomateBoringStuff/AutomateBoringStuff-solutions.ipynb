{
 "cells": [
  {
   "cell_type": "markdown",
   "metadata": {},
   "source": [
    "# Chapter 8 : Quizz generator"
   ]
  },
  {
   "cell_type": "code",
   "execution_count": 24,
   "metadata": {},
   "outputs": [],
   "source": [
    "def write_header(fname, id) :\n",
    "    fname.write(\"Name:\\n\")\n",
    "    fname.write(\"Date:\\n\")\n",
    "    fname.write(\"Period:\\n\")\n",
    "    fname.write((\" \"*20) + \"State Capitals Quiz (Form {0})\\n\\n\".format(id))\n",
    "\n",
    "def generate_question(state, capitals, noptions):\n",
    "    import string\n",
    "    # generate the list of options, randomly shuffled\n",
    "    correct = capitals[state]\n",
    "    wrong = list(capitals.values())\n",
    "    wrong.remove(correct)\n",
    "    answers = random.sample(wrong, noptions-1)\n",
    "    answers += [correct]\n",
    "    random.shuffle(answers)\n",
    "    # write the question text\n",
    "    question_text=\"The capital of {0} is:\\n\".format(state)\n",
    "    for idoption in range(noptions) :\n",
    "        question_text += \"{0}. {1}\\n\".format(string.ascii_uppercase[idoption], answers[idoption])\n",
    "    question_text += \"\\n\"\n",
    "    # write the solution text\n",
    "    solution_text = \"{0}. {1} -> {2}\\n\".format(state, \n",
    "                                                string.ascii_uppercase[answers.index(correct)],\n",
    "                                                correct)\n",
    "    \n",
    "    return question_text, solution_text\n",
    "    "
   ]
  },
  {
   "cell_type": "code",
   "execution_count": 26,
   "metadata": {},
   "outputs": [
    {
     "name": "stdout",
     "output_type": "stream",
     "text": [
      "Generating quizz number : 0\n",
      "Generating quizz number : 1\n",
      "Generating quizz number : 2\n",
      "Generating quizz number : 3\n",
      "Generating quizz number : 4\n",
      "Generating quizz number : 5\n",
      "Generating quizz number : 6\n",
      "Generating quizz number : 7\n",
      "Generating quizz number : 8\n",
      "Generating quizz number : 9\n"
     ]
    }
   ],
   "source": [
    "import random\n",
    "\n",
    "# quizz data\n",
    "# The quiz data. Keys are states and values are their capitals.\n",
    "capitals = {'Alabama': 'Montgomery', 'Alaska': 'Juneau', 'Arizona': 'Phoenix',\n",
    "   'Arkansas': 'Little Rock', 'California': 'Sacramento', 'Colorado': 'Denver',\n",
    "   'Connecticut': 'Hartford', 'Delaware': 'Dover', 'Florida': 'Tallahassee',\n",
    "   'Georgia': 'Atlanta', 'Hawaii': 'Honolulu', 'Idaho': 'Boise', 'Illinois':\n",
    "   'Springfield', 'Indiana': 'Indianapolis', 'Iowa': 'Des Moines', 'Kansas':\n",
    "   'Topeka', 'Kentucky': 'Frankfort', 'Louisiana': 'Baton Rouge', 'Maine':\n",
    "   'Augusta', 'Maryland': 'Annapolis', 'Massachusetts': 'Boston', 'Michigan':\n",
    "   'Lansing', 'Minnesota': 'Saint Paul', 'Mississippi': 'Jackson', 'Missouri':\n",
    "   'Jefferson City', 'Montana': 'Helena', 'Nebraska': 'Lincoln', 'Nevada':\n",
    "   'Carson City', 'New Hampshire': 'Concord', 'New Jersey': 'Trenton', \n",
    "    'New Mexico': 'Santa Fe', 'New York': 'Albany', 'North Carolina': 'Raleigh',\n",
    "   'North Dakota': 'Bismarck', 'Ohio': 'Columbus', 'Oklahoma': 'Oklahoma City',\n",
    "   'Oregon': 'Salem', 'Pennsylvania': 'Harrisburg', 'Rhode Island': 'Providence',\n",
    "   'South Carolina': 'Columbia', 'South Dakota': 'Pierre', 'Tennessee':\n",
    "   'Nashville', 'Texas': 'Austin', 'Utah': 'Salt Lake City', 'Vermont':\n",
    "   'Montpelier', 'Virginia': 'Richmond', 'Washington': 'Olympia', \n",
    "    'West Virginia': 'Charleston', 'Wisconsin': 'Madison', 'Wyoming': 'Cheyenne'}\n",
    "             \n",
    "# Define some parameters\n",
    "NQUIZZ=10 # Number of quizes\n",
    "NQUESTIONS=2 # Number of questions per quizz\n",
    "NOPTIONS=4 # Four options per question\n",
    "\n",
    "# Generate the quizzes\n",
    "for idquizz in range(NQUIZZ) :\n",
    "    print(\"Generating quizz number : {0}\".format(idquizz))\n",
    "    # TODO : Create the quizz and answer files.\n",
    "    quizzfile = open(\"test/capitals-quizz-{0:02}.txt\".format(idquizz+1), 'w')\n",
    "    solfile = open(\"test/capitals-quizz-{0:02}-solutions.txt\".format(idquizz+1), 'w')\n",
    "    \n",
    "    # TODO : Write out the header for the quiz. \n",
    "    write_header(quizzfile, idquizz)\n",
    "    \n",
    "    # TODO : Shuffle the order of the states.\n",
    "    states = list(capitals.keys())\n",
    "    random.shuffle(states)\n",
    "    \n",
    "    # TODO : Generate NQUESTIONS and write them to the file. \n",
    "    for idquestion in range(NQUESTIONS) :\n",
    "        question_text, sol_text = generate_question(states[idquestion], capitals, NOPTIONS)\n",
    "        quizzfile.write(question_text)\n",
    "        solfile.write(sol_text)\n",
    "    \n",
    "    quizzfile.close()\n",
    "    solfile.close()\n",
    "    "
   ]
  },
  {
   "cell_type": "markdown",
   "metadata": {},
   "source": [
    "# Chapter 12: Processing excel files"
   ]
  },
  {
   "cell_type": "code",
   "execution_count": 7,
   "metadata": {},
   "outputs": [
    {
     "name": "stdout",
     "output_type": "stream",
     "text": [
      "Reading rows ...\n",
      "Printing data ...\n",
      "Done.\n"
     ]
    }
   ],
   "source": [
    "import openpyxl\n",
    "wb = openpyxl.load_workbook('automate_online-materials/censuspopdata.xlsx')\n",
    "\n",
    "sheet = wb['Population by Census Tract'] \n",
    "nrows = sheet.max_row\n",
    "ncolumns = sheet.max_column\n",
    "\n",
    "county_count = {} # use a dictionary\n",
    "county_pop = {} # use a dictionary\n",
    "print(\"Reading rows ...\")\n",
    "for irow in range(2, nrows+1):\n",
    "    state  = sheet['B'+str(irow)].value\n",
    "    county = sheet['C'+str(irow)].value\n",
    "    popu   = sheet['D'+str(irow)].value\n",
    "    # set default values\n",
    "    county_count.setdefault(county, 0)\n",
    "    county_pop.setdefault(county, 0)\n",
    "    # Count\n",
    "    county_count[county] += 1\n",
    "    county_pop[county] += int(popu)\n",
    "\n",
    "# write data to an excel file\n",
    "print(\"Printing data ...\")\n",
    "ofile = openpyxl.Workbook()\n",
    "sheet = ofile.active\n",
    "sheet['A1'] = \"County\"\n",
    "sheet['B1'] = \"Count\"\n",
    "sheet['C1'] = \"Population\"\n",
    "i = 2\n",
    "for county in county_count.keys() :\n",
    "    sheet['A'+str(i)] = county\n",
    "    sheet['B'+str(i)] = county_count[county]\n",
    "    sheet['C'+str(i)] = county_pop[county]\n",
    "    i += 1\n",
    "ofile.save('test/county_data.xlsx')\n",
    "\n",
    "print(\"Done.\")"
   ]
  },
  {
   "cell_type": "markdown",
   "metadata": {},
   "source": [
    "# Chapter 18 : Sending emails"
   ]
  },
  {
   "cell_type": "code",
   "execution_count": 15,
   "metadata": {},
   "outputs": [
    {
     "name": "stdout",
     "output_type": "stream",
     "text": [
      "\n",
      "        Dear student Alice,\n",
      "        These are your grades.\n",
      "       gr1       gr2       gr3\n",
      "         1         2         3\n",
      "Best regards,\n",
      " William\n",
      "\n",
      "        Dear student Bob,\n",
      "        These are your grades.\n",
      "       gr1       gr2       gr3\n",
      "         3         2         1\n",
      "Best regards,\n",
      " William\n",
      "\n",
      "        Dear student John,\n",
      "        These are your grades.\n",
      "       gr1       gr2       gr3\n",
      "         4         5         6\n",
      "Best regards,\n",
      " William\n",
      "\n",
      "        Dear student Aegon,\n",
      "        These are your grades.\n",
      "       gr1       gr2       gr3\n",
      "         6         5         4\n",
      "Best regards,\n",
      " William\n"
     ]
    },
    {
     "data": {
      "text/plain": [
       "(221, b'2.0.0 closing connection q187-v6sm6156418vkq.10 - gsmtp')"
      ]
     },
     "execution_count": 15,
     "metadata": {},
     "output_type": "execute_result"
    }
   ],
   "source": [
    "import smtplib\n",
    "import getpass # to read the password without echoing it\n",
    "import openpyxl\n",
    "\n",
    "# send email helper\n",
    "def send_emails(smtpobj, fname, fromaddress):\n",
    "    wb = openpyxl.load_workbook(fname)\n",
    "    sheet = wb.active \n",
    "    nrows = sheet.max_row\n",
    "    ncols = sheet.max_column\n",
    "    # Create header for grades table\n",
    "    header=\"\"\n",
    "    for icol in range(3, ncols+1):\n",
    "        header += \"\"\"{0:>10s}\"\"\".format(sheet.cell(1, icol).value)\n",
    "    header += \"\\n\"\n",
    "    # Process each student grade\n",
    "    for irow in range(2, nrows + 1):\n",
    "        msg = \"\"\"\n",
    "        Dear student {0},\n",
    "        These are your grades.\\n\"\"\".format(sheet.cell(irow, 1).value)\n",
    "        msg += header\n",
    "        for icol in range(3, ncols+1):\n",
    "            msg += \"\"\"{0:>10d}\"\"\".format(sheet.cell(irow, icol).value)\n",
    "        msg += \"\\n\"\n",
    "        msg += \"\"\"Best regards,\\n William\"\"\"\n",
    "        smtpobj.sendmail(fromaddress, sheet.cell(irow, 2).value, 'Subject: Grades.\\n' + msg)\n",
    "    \n",
    "# smtp stuff\n",
    "SERVER='smtp.gmail.com'\n",
    "PORT=587\n",
    "USERNAME='woquendo@gmail.com'\n",
    "PASSWORD=getpass.getpass()\n",
    "FROM=USERNAME\n",
    "TO=USERNAME # This will change\n",
    "smtpObj = smtplib.SMTP(SERVER, PORT)\n",
    "smtpObj.starttls()\n",
    "smtpObj.login(USERNAME, PASSWORD)\n",
    "send_emails(smtpObj, 'grades.xlsx', USERNAME)\n",
    "smtpObj.quit()"
   ]
  },
  {
   "cell_type": "code",
   "execution_count": null,
   "metadata": {},
   "outputs": [],
   "source": []
  }
 ],
 "metadata": {
  "kernelspec": {
   "display_name": "Python 3",
   "language": "python",
   "name": "python3"
  },
  "language_info": {
   "codemirror_mode": {
    "name": "ipython",
    "version": 3
   },
   "file_extension": ".py",
   "mimetype": "text/x-python",
   "name": "python",
   "nbconvert_exporter": "python",
   "pygments_lexer": "ipython3",
   "version": "3.6.5"
  }
 },
 "nbformat": 4,
 "nbformat_minor": 2
}
