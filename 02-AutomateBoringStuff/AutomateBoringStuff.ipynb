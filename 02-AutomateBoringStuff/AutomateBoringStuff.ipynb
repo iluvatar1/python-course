{
 "cells": [
  {
   "cell_type": "markdown",
   "metadata": {},
   "source": [
    "# Automate the Boring Stuff with Python : Examples\n",
    "Author: Al Sweigart\n",
    "\n",
    "Web: https://automatetheboringstuff.com/\n",
    "\n",
    "Download the example files from :\n",
    "https://www.nostarch.com/download/Automate_the_Boring_Stuff_onlinematerials.zip\n",
    "\n",
    "In this module we will learn several handy tools to easy day to day tasks like manipulating excel files, pdf files, sending emails, etc"
   ]
  },
  {
   "cell_type": "markdown",
   "metadata": {},
   "source": [
    "## Chapter 8 : Reading and writing files (warm up)\n",
    "In this chapter you will actually aplly what you have learned to create a system that generates exams with a random order of questions.\n",
    "\n",
    "The goal is to generate a given number of exams, with a given number of questions, where each question is generated randomly and its answers are also randomly ordered. This script should write the exams and their solutions to different text files. (Based on the book we will use capital of states in EEUU).\n",
    "\n",
    "The general structure of the quizz program would be the following:"
   ]
  },
  {
   "cell_type": "code",
   "execution_count": 4,
   "metadata": {},
   "outputs": [
    {
     "name": "stdout",
     "output_type": "stream",
     "text": [
      "Generating quizz number : 1/10\n",
      "Generating quizz number : 2/10\n",
      "Generating quizz number : 3/10\n",
      "Generating quizz number : 4/10\n",
      "Generating quizz number : 5/10\n",
      "Generating quizz number : 6/10\n",
      "Generating quizz number : 7/10\n",
      "Generating quizz number : 8/10\n",
      "Generating quizz number : 9/10\n",
      "Generating quizz number : 10/10\n"
     ]
    }
   ],
   "source": [
    "import random\n",
    "\n",
    "# quizz data\n",
    "# The quiz data. Keys are states and values are their capitals.\n",
    "capitals = {'Alabama': 'Montgomery', 'Alaska': 'Juneau', 'Arizona': 'Phoenix',\n",
    "   'Arkansas': 'Little Rock', 'California': 'Sacramento', 'Colorado': 'Denver',\n",
    "   'Connecticut': 'Hartford', 'Delaware': 'Dover', 'Florida': 'Tallahassee',\n",
    "   'Georgia': 'Atlanta', 'Hawaii': 'Honolulu', 'Idaho': 'Boise', 'Illinois':\n",
    "   'Springfield', 'Indiana': 'Indianapolis', 'Iowa': 'Des Moines', 'Kansas':\n",
    "   'Topeka', 'Kentucky': 'Frankfort', 'Louisiana': 'Baton Rouge', 'Maine':\n",
    "   'Augusta', 'Maryland': 'Annapolis', 'Massachusetts': 'Boston', 'Michigan':\n",
    "   'Lansing', 'Minnesota': 'Saint Paul', 'Mississippi': 'Jackson', 'Missouri':\n",
    "   'Jefferson City', 'Montana': 'Helena', 'Nebraska': 'Lincoln', 'Nevada':\n",
    "   'Carson City', 'New Hampshire': 'Concord', 'New Jersey': 'Trenton', \n",
    "    'New Mexico': 'Santa Fe', 'New York': 'Albany', 'North Carolina': 'Raleigh',\n",
    "   'North Dakota': 'Bismarck', 'Ohio': 'Columbus', 'Oklahoma': 'Oklahoma City',\n",
    "   'Oregon': 'Salem', 'Pennsylvania': 'Harrisburg', 'Rhode Island': 'Providence',\n",
    "   'South Carolina': 'Columbia', 'South Dakota': 'Pierre', 'Tennessee':\n",
    "   'Nashville', 'Texas': 'Austin', 'Utah': 'Salt Lake City', 'Vermont':\n",
    "   'Montpelier', 'Virginia': 'Richmond', 'Washington': 'Olympia', \n",
    "    'West Virginia': 'Charleston', 'Wisconsin': 'Madison', 'Wyoming': 'Cheyenne'}\n",
    "             \n",
    "# Define some parameters\n",
    "NQUIZZ=10 # Number of quizes\n",
    "NQUESTIONS=2 # Number of questions per quizz\n",
    "NOPTIONS=4 # Four options per question\n",
    "\n",
    "# Generate the quizzes\n",
    "for idquizz in range(NQUIZZ) :\n",
    "    print(\"Generating quizz number : {0}/{1}\".format(idquizz+1, NQUIZZ))\n",
    "    # TODO : Create the quizz and answer files.\n",
    "    \n",
    "    # TODO : Write out the header for the quiz. \n",
    "    # write_header(quizzfile, idquizz)\n",
    "    \n",
    "    # TODO : Shuffle the order of the states.\n",
    "    \n",
    "    # TODO : Generate NQUESTIONS and write them to the file. \n",
    "    #for idquestion in range(NQUESTIONS) :\n",
    "        #question_text, sol_text = generate_question(states[idquestion], capitals, NOPTIONS)\n",
    "        #quizzfile.write(question_text)\n",
    "        #solfile.write(sol_text)\n",
    "    \n",
    "    # close files"
   ]
  },
  {
   "cell_type": "markdown",
   "metadata": {},
   "source": [
    "You have to solve the *TODO*. Use functions when indicated. This is an example: The quizz number 5 should be saved on file \"capitals-quizz-05.txt\", the solutions on \"capitals-quizz-05-answers.txt\", and the quizz should look like\n",
    "\n",
    "    Name:\n",
    "    Date:\n",
    "    Period:\n",
    "                                  State Capitals Quiz (Form 5)\n",
    "                                  \n",
    "    1. What is the capital of West Virginia?\n",
    "        A. Hartford\n",
    "        B. Santa Fe\n",
    "        C. Harrisburg\n",
    "        D. Charleston\n",
    "    2. What is the capital of Colorado?\n",
    "        A. Raleigh\n",
    "        B. Harrisburg\n",
    "        C. Denver\n",
    "        D. Lincoln"
   ]
  },
  {
   "cell_type": "markdown",
   "metadata": {},
   "source": [
    "# Chapter 12 : Working with excel files\n",
    "This chapter shows a very simple example on how to manipulate excel files from Python. This is useful to script the processing of many files. You can also use Pandas.read_excel to convert an excel table into a data frame, but here we will use the module openpyxl that allows even to format cells individually. \n",
    "\n",
    "This is very powerful. For example, if you have a lot of excel files where each represent an experiment under some specific condition, you could merge or get the maximum or minimum or average from all the files by using python and saving maybe thousands of clicks and a lot of time. Or if you want to get a list of the students with grades under certain threshold, but each course has its own excel sheet, you could go through all the excel files, extract the relevant student data, build the huge list needed, and maybe send and email to all of them (also from python!).\n",
    "\n",
    "If not done before, install the openpyxl module. On the anaconda console, you can simply run\n",
    "\n",
    "    conda install openpyxl\n",
    "    \n",
    "Test the installation by running the appropriate import"
   ]
  },
  {
   "cell_type": "code",
   "execution_count": 3,
   "metadata": {},
   "outputs": [],
   "source": [
    "import openpyxl"
   ]
  },
  {
   "cell_type": "markdown",
   "metadata": {},
   "source": [
    "From the examples files directory (remember to download them from https://www.nostarch.com/download/Automate_the_Boring_Stuff_onlinematerials.zip ) open the file `example.xlsx` . It has three sheets, and the first one contains a table. \n",
    "\n",
    "Let's first open the file with Python:"
   ]
  },
  {
   "cell_type": "code",
   "execution_count": 4,
   "metadata": {},
   "outputs": [
    {
     "data": {
      "text/plain": [
       "openpyxl.workbook.workbook.Workbook"
      ]
     },
     "execution_count": 4,
     "metadata": {},
     "output_type": "execute_result"
    }
   ],
   "source": [
    "import openpyxl\n",
    "wb = openpyxl.load_workbook('automate_online-materials/example.xlsx')\n",
    "type(wb)"
   ]
  },
  {
   "cell_type": "markdown",
   "metadata": {},
   "source": [
    "## Accesing a cell"
   ]
  },
  {
   "cell_type": "code",
   "execution_count": 19,
   "metadata": {},
   "outputs": [
    {
     "name": "stdout",
     "output_type": "stream",
     "text": [
      "['Sheet1', 'Sheet2', 'Sheet3']\n",
      "<Worksheet \"Sheet3\">\n",
      "Sheet3\n",
      "<Worksheet \"Sheet1\">\n",
      "2015-04-05 13:34:02\n",
      "Cell B1 contains : Apples\n",
      "The column is B\n",
      "The row is 1\n",
      "The column is B\n"
     ]
    }
   ],
   "source": [
    "import openpyxl\n",
    "wb = openpyxl.load_workbook('automate_online-materials/example.xlsx')\n",
    "\n",
    "# get the sheet names\n",
    "print(wb.sheetnames) # The book uses the deprecated function get_sheet_by_name\n",
    "\n",
    "# get and specific sheet\n",
    "sheet = wb['Sheet3']  #  get_sheet_by_name is deprecated. Now, the file is a dictionary\n",
    "print(sheet)\n",
    "print(sheet.title)\n",
    "# get another sheet. By default, the active sheet is the first one\n",
    "anotherSheet = wb.active\n",
    "print(anotherSheet)\n",
    "\n",
    "# get a cell from a given sheet\n",
    "anotherSheet['A1']\n",
    "print(anotherSheet['A1'].value)\n",
    "\n",
    "c=anotherSheet['B1']\n",
    "print(\"Cell B1 contains : {0}\".format(c.value))\n",
    "print(\"The column is {0}\".format(c.column))\n",
    "print(\"The row is {0}\".format(c.row))"
   ]
  },
  {
   "cell_type": "markdown",
   "metadata": {},
   "source": [
    "## Accesing cells by indexes"
   ]
  },
  {
   "cell_type": "markdown",
   "metadata": {},
   "source": [
    "You can also explore programatically a range of cells using integer indexes"
   ]
  },
  {
   "cell_type": "code",
   "execution_count": 30,
   "metadata": {},
   "outputs": [
    {
     "name": "stdout",
     "output_type": "stream",
     "text": [
      "In row : 1\n",
      "Values : \n",
      "Apples\t\n",
      "73\t\n",
      "In row : 3\n",
      "Values : \n",
      "Pears\t\n",
      "14\t\n",
      "In row : 5\n",
      "Values : \n",
      "Apples\t\n",
      "152\t\n"
     ]
    }
   ],
   "source": [
    "import openpyxl\n",
    "wb = openpyxl.load_workbook('automate_online-materials/example.xlsx')\n",
    "\n",
    "sheet = wb['Sheet1'] \n",
    "\n",
    "nrows = sheet.max_row\n",
    "ncolumns = sheet.max_column\n",
    "\n",
    "for irow in range(1, nrows, 2):\n",
    "    print(\"In row : {0}\".format(irow))\n",
    "    print(\"Values : \")\n",
    "    for icol in range(2, ncolumns+1, 1):\n",
    "        print(\"{0}\\t\".format(sheet.cell(row=irow, column=icol).value))"
   ]
  },
  {
   "cell_type": "markdown",
   "metadata": {},
   "source": [
    "## Getting column letters from indexes and viceversa"
   ]
  },
  {
   "cell_type": "code",
   "execution_count": 41,
   "metadata": {},
   "outputs": [
    {
     "name": "stdout",
     "output_type": "stream",
     "text": [
      "A\n",
      "AA\n",
      "AHP\n",
      "27\n"
     ]
    }
   ],
   "source": [
    "import openpyxl\n",
    "from openpyxl.cell.cell import get_column_letter, column_index_from_string\n",
    "\n",
    "print(get_column_letter(1))\n",
    "print(get_column_letter(27))\n",
    "print(get_column_letter(900))\n",
    "\n",
    "print(column_index_from_string('AA'))"
   ]
  },
  {
   "cell_type": "markdown",
   "metadata": {},
   "source": [
    "## Accesing slices of an excel file"
   ]
  },
  {
   "cell_type": "code",
   "execution_count": 48,
   "metadata": {},
   "outputs": [
    {
     "name": "stdout",
     "output_type": "stream",
     "text": [
      "A1 2015-04-05 13:34:02\n",
      "B1 Apples\n",
      "C1 73\n",
      "--- END OF ROW ---\n",
      "\n",
      "A2 2015-04-05 03:41:23\n",
      "B2 Cherries\n",
      "C2 85\n",
      "--- END OF ROW ---\n",
      "\n",
      "A3 2015-04-06 12:46:51\n",
      "B3 Pears\n",
      "C3 14\n",
      "--- END OF ROW ---\n",
      "\n"
     ]
    }
   ],
   "source": [
    "import openpyxl\n",
    "wb = openpyxl.load_workbook('automate_online-materials/example.xlsx')\n",
    "sheet = wb['Sheet1']\n",
    "tuple(sheet['A1':'C3']) \n",
    "\n",
    "for fullrow in sheet['A1':'C3']:\n",
    "    for cell in fullrow:\n",
    "        print(cell.coordinate, cell.value)\n",
    "    print(\"--- END OF ROW ---\\n\")"
   ]
  },
  {
   "cell_type": "markdown",
   "metadata": {},
   "source": [
    "## Project : Count the total population and census track per county\n",
    "\n",
    "Assume that you are given a huge excel file containing de 2010 US Census (in the examples, the file is called `censuspopdata.xlsx`). Your tasks is to count both the total population and the number of census track for each county.  \n",
    "\n",
    "Your program should:\n",
    "1. Read the data from the Excel spreadsheet.\n",
    "2. Count the number of census track per county.\n",
    "3. Count the total population per county.\n",
    "4. Save the results to another excel file.\n",
    "\n",
    "This is an example of the first column of the result:\n",
    "\n",
    "    County\tCount\tPopulation\n",
    "    Autauga\t12\t54571\n",
    "    Baldwin\t40\t227985\n",
    "    Barbour\t13\t44046\n",
    "    Bibb\t 48\t178462\n",
    "    Blount\t37\t180332\n"
   ]
  },
  {
   "cell_type": "markdown",
   "metadata": {},
   "source": [
    "# Chapter 16: Sending emails \n",
    "\n",
    "You can use the `smtplib` to send emails. Install it as usual, \n",
    "\n",
    "    conda install smptlib\n",
    "    \n",
    "If you use a google account, you may need to setup an application specific password as explained in https://support.google.com/accounts/answer/185833?hl=en/\n",
    "\n",
    "The following example shows the basic structure to send an email, with gmail. Replace SERVER, PORT, USERNAME with your own."
   ]
  },
  {
   "cell_type": "code",
   "execution_count": 58,
   "metadata": {},
   "outputs": [
    {
     "data": {
      "text/plain": [
       "(221, b'2.0.0 closing connection 190-v6sm1722754vki.51 - gsmtp')"
      ]
     },
     "execution_count": 58,
     "metadata": {},
     "output_type": "execute_result"
    }
   ],
   "source": [
    "import smtplib\n",
    "import getpass # to read the password without echoing it\n",
    "SERVER='smtp.gmail.com'\n",
    "PORT=587\n",
    "USERNAME='PUTYOUREMAIL@EXAMPLE.COM'\n",
    "PASSWORD=getpass.getpass()\n",
    "FROM=USERNAME\n",
    "TO=USERNAME\n",
    "smtpObj = smtplib.SMTP(SERVER, PORT)\n",
    "smtpObj.starttls()\n",
    "smtpObj.login(USERNAME, PASSWORD)\n",
    "smtpObj.sendmail(FROM, TO, 'Subject: Test.\\nThis is the body.\\nYou can format it as you want')\n",
    "smtpObj.quit()"
   ]
  },
  {
   "cell_type": "markdown",
   "metadata": {},
   "source": [
    "## Project: Send grades to your students\n",
    "\n",
    "After making the previous example work for your own email, create a spreadsheet with the name of your student (fictituous), the email (yours), and some grades. Create a script that reads the excel file and sends the grade to each studen, individually, in the email. "
   ]
  },
  {
   "cell_type": "code",
   "execution_count": null,
   "metadata": {},
   "outputs": [],
   "source": []
  }
 ],
 "metadata": {
  "kernelspec": {
   "display_name": "Python 3",
   "language": "python",
   "name": "python3"
  },
  "language_info": {
   "codemirror_mode": {
    "name": "ipython",
    "version": 3
   },
   "file_extension": ".py",
   "mimetype": "text/x-python",
   "name": "python",
   "nbconvert_exporter": "python",
   "pygments_lexer": "ipython3",
   "version": "3.6.5"
  }
 },
 "nbformat": 4,
 "nbformat_minor": 2
}
